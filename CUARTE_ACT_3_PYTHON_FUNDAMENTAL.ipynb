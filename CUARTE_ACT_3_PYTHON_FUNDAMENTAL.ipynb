{
  "nbformat": 4,
  "nbformat_minor": 0,
  "metadata": {
    "colab": {
      "provenance": [],
      "authorship_tag": "ABX9TyO4zXoRlEfRt8ZzMKgIrxZ8",
      "include_colab_link": true
    },
    "kernelspec": {
      "name": "python3",
      "display_name": "Python 3"
    },
    "language_info": {
      "name": "python"
    }
  },
  "cells": [
    {
      "cell_type": "markdown",
      "metadata": {
        "id": "view-in-github",
        "colab_type": "text"
      },
      "source": [
        "<a href=\"https://colab.research.google.com/github/SKCuarte/Calculator/blob/master/CUARTE_ACT_3_PYTHON_FUNDAMENTAL.ipynb\" target=\"_parent\"><img src=\"https://colab.research.google.com/assets/colab-badge.svg\" alt=\"Open In Colab\"/></a>"
      ]
    },
    {
      "cell_type": "code",
      "execution_count": null,
      "metadata": {
        "colab": {
          "base_uri": "https://localhost:8080/"
        },
        "id": "wAa6o40TwuuR",
        "outputId": "026eba68-5f49-4a37-949a-1d782a937c9b"
      },
      "outputs": [
        {
          "output_type": "stream",
          "name": "stdout",
          "text": [
            "Hello World\n"
          ]
        }
      ],
      "source": [
        "#Cell 1\n",
        "#print_hello_world\n",
        "print(\"Hello World\")"
      ]
    },
    {
      "cell_type": "code",
      "source": [
        "#Cell 2\n",
        "#Phyton comments\n",
        "\n",
        "#This is a comment\n",
        "\n",
        "\"\"\"\n",
        "This is\n",
        "also a comment\n",
        "written in one line\n",
        "\"\"\"\n",
        "\n",
        "print(\"Hi\")"
      ],
      "metadata": {
        "colab": {
          "base_uri": "https://localhost:8080/"
        },
        "id": "02XRb3SDw_Da",
        "outputId": "68554529-6108-42f3-eb9b-32fa6bf2a0b3"
      },
      "execution_count": null,
      "outputs": [
        {
          "output_type": "stream",
          "name": "stdout",
          "text": [
            "Hi\n"
          ]
        }
      ]
    },
    {
      "cell_type": "code",
      "source": [
        "#Cell 3\n",
        "#Phyton Variables\n",
        "\n",
        "x = 12\n",
        "Y = 21\n",
        "print(x)\n",
        "print(Y)"
      ],
      "metadata": {
        "colab": {
          "base_uri": "https://localhost:8080/"
        },
        "collapsed": true,
        "id": "d5597rfDxA_2",
        "outputId": "2e9a9e47-c2f8-41f0-bd93-b615a2f406b5"
      },
      "execution_count": null,
      "outputs": [
        {
          "output_type": "stream",
          "name": "stdout",
          "text": [
            "12\n",
            "21\n"
          ]
        }
      ]
    },
    {
      "cell_type": "code",
      "source": [
        "#Cell 4\n",
        "#Data Types\n",
        "\n",
        "x = 10\n",
        "\n",
        "y = \"Hello\"\n",
        "\n",
        "z = [\"Hey\", \"Hello\", \"Goodmorning\", \"Hi\"]\n",
        "\n",
        "print(type(x))\n",
        "\n",
        "print(type(y))\n",
        "\n",
        "print(type(z))\n",
        "\n",
        "\n"
      ],
      "metadata": {
        "colab": {
          "base_uri": "https://localhost:8080/"
        },
        "id": "jdCKv609yexY",
        "outputId": "e0ce827a-fdfd-40c4-8921-b75bad9df3c1"
      },
      "execution_count": null,
      "outputs": [
        {
          "output_type": "stream",
          "name": "stdout",
          "text": [
            "<class 'int'>\n",
            "<class 'str'>\n",
            "<class 'list'>\n"
          ]
        }
      ]
    },
    {
      "cell_type": "code",
      "source": [
        "#Cell 5\n",
        "#Phyton Operations\n",
        "\n",
        "x = 3\n",
        "y = 5\n",
        "\n",
        "print(5 + 3)\n",
        "print(5 * 3)\n",
        "print(x + y)\n",
        "print(x * y)\n"
      ],
      "metadata": {
        "colab": {
          "base_uri": "https://localhost:8080/"
        },
        "id": "uu3M1iq5xBB7",
        "outputId": "8141f98d-925b-446c-ff64-50091e1cceee"
      },
      "execution_count": null,
      "outputs": [
        {
          "output_type": "stream",
          "name": "stdout",
          "text": [
            "8\n",
            "15\n",
            "8\n",
            "15\n"
          ]
        }
      ]
    },
    {
      "cell_type": "code",
      "source": [
        "#Cell 6\n",
        "#Phyton List\n",
        "\n",
        "Paper = [\"Manila\", \"Bond\", \"Coloured\", \"Cardboard\", \"Construction\", \"Kraft\"]\n",
        "\n",
        "print(Paper)\n",
        "print(Paper[3])"
      ],
      "metadata": {
        "colab": {
          "base_uri": "https://localhost:8080/"
        },
        "id": "takfJ3rexBEN",
        "outputId": "b9148e63-5fa5-4bdf-9c87-725266e335b9"
      },
      "execution_count": null,
      "outputs": [
        {
          "output_type": "stream",
          "name": "stdout",
          "text": [
            "['Manila', 'Bond', 'Coloured', 'Cardboard', 'Construction', 'Kraft']\n",
            "Cardboard\n"
          ]
        }
      ]
    },
    {
      "cell_type": "code",
      "source": [
        "#Cell 7\n",
        "#Phyton tuples\n",
        "\n",
        "tuple1 = (\"Jonh\", \"Mary\", \"Dean\", \"Sam\", \"Jack\")\n",
        "tuple2 = (\"Dean\", )\n",
        "print(tuple1)\n",
        "print(len(tuple1))\n",
        "print(type(tuple2))\n"
      ],
      "metadata": {
        "colab": {
          "base_uri": "https://localhost:8080/"
        },
        "id": "flPXbBUbxBGY",
        "outputId": "8ebad247-7853-46ab-93fd-0b8a2e9d45ec"
      },
      "execution_count": null,
      "outputs": [
        {
          "output_type": "stream",
          "name": "stdout",
          "text": [
            "('Jonh', 'Mary', 'Dean', 'Sam', 'Jack')\n",
            "5\n",
            "<class 'tuple'>\n"
          ]
        }
      ]
    },
    {
      "cell_type": "code",
      "source": [
        "#Cell 8\n",
        "#Phyton Sets\n",
        "\n",
        "set1 = {\"Manila\", \"Bond\", \"Coloured\", \"Cardboard\", \"Construction\", \"Kraft\"}\n",
        "print(set1)\n",
        "print(len(set1))\n",
        "print(type(set1))"
      ],
      "metadata": {
        "colab": {
          "base_uri": "https://localhost:8080/"
        },
        "id": "efERWcesxBIu",
        "outputId": "410c7c89-86f6-4963-cf59-0e3a2b85fce3"
      },
      "execution_count": null,
      "outputs": [
        {
          "output_type": "stream",
          "name": "stdout",
          "text": [
            "{'Bond', 'Coloured', 'Construction', 'Manila', 'Kraft', 'Cardboard'}\n",
            "6\n",
            "<class 'set'>\n"
          ]
        }
      ]
    },
    {
      "cell_type": "code",
      "source": [
        "#Cell 9\n",
        "#Phyton Dictiornary\n",
        "\n",
        "dict1 = {\n",
        "    \"Name\" : \"Kyan\",\n",
        "    \"Age\" : \"18\",\n",
        "    \"Address\" : \"Manila\"\n",
        "}\n",
        "print(dict1)\n",
        "print(len(dict1))\n",
        "print(type(dict1))"
      ],
      "metadata": {
        "colab": {
          "base_uri": "https://localhost:8080/"
        },
        "id": "yHuEm51T34YZ",
        "outputId": "2b209833-ff38-4b15-b6d6-c5b1364a990c"
      },
      "execution_count": null,
      "outputs": [
        {
          "output_type": "stream",
          "name": "stdout",
          "text": [
            "{'Name': 'Kyan', 'Age': '18', 'Address': 'Manila'}\n",
            "3\n",
            "<class 'dict'>\n"
          ]
        }
      ]
    },
    {
      "cell_type": "code",
      "source": [
        "#Cell 10\n",
        "#Phyton If Else\n",
        "\n",
        "x = 17\n",
        "y =  93\n",
        "\n",
        "if x < y:\n",
        "   print(\"x is less than y\")\n",
        "elif x == y:\n",
        "    print(\"x is equal to y\")\n",
        "else:\n",
        "    print(\"x is greater than y\")"
      ],
      "metadata": {
        "colab": {
          "base_uri": "https://localhost:8080/"
        },
        "id": "b6Ib9xlm34a4",
        "outputId": "bc0413b8-96c5-495c-e5d1-7e35b3098537"
      },
      "execution_count": null,
      "outputs": [
        {
          "output_type": "stream",
          "name": "stdout",
          "text": [
            "x is less than y\n"
          ]
        }
      ]
    },
    {
      "cell_type": "code",
      "source": [
        "#Cell 11\n",
        "#Phyton While Loops\n",
        "\n",
        "i = 2\n",
        "\n",
        "while i < 7:\n",
        " print(i)\n",
        " if i == 7:\n",
        "  break\n",
        " i += 1\n"
      ],
      "metadata": {
        "colab": {
          "base_uri": "https://localhost:8080/"
        },
        "collapsed": true,
        "id": "81TU7jk834dd",
        "outputId": "1420d4bd-9490-465f-91aa-4d0465aab684"
      },
      "execution_count": null,
      "outputs": [
        {
          "output_type": "stream",
          "name": "stdout",
          "text": [
            "2\n",
            "3\n",
            "4\n",
            "5\n",
            "6\n"
          ]
        }
      ]
    },
    {
      "cell_type": "code",
      "source": [
        "#Cell 12\n",
        "#Phyton For Loops\n",
        "\n",
        "Loops = [\"Manila\", \"Bond\", \"Coloured\", \"Cardboard\", \"Construction\", \"Kraft\"]\n",
        "for x in Loops:\n",
        "  print(x)"
      ],
      "metadata": {
        "colab": {
          "base_uri": "https://localhost:8080/"
        },
        "id": "KfrhQVza34f2",
        "outputId": "11f557da-7e87-4fe1-bdcf-26e360c2ddf1"
      },
      "execution_count": null,
      "outputs": [
        {
          "output_type": "stream",
          "name": "stdout",
          "text": [
            "Manila\n",
            "Bond\n",
            "Coloured\n",
            "Cardboard\n",
            "Construction\n",
            "Kraft\n"
          ]
        }
      ]
    },
    {
      "cell_type": "code",
      "source": [
        "#Cell 13\n",
        "#Phyton LAMNBDA\n",
        "\n",
        "x = lambda z: z + 7\n",
        "print(x(13))"
      ],
      "metadata": {
        "colab": {
          "base_uri": "https://localhost:8080/"
        },
        "id": "g6GzA-Wb34iN",
        "outputId": "8699a47b-68ee-4ad1-a5cb-79266c1a1f62"
      },
      "execution_count": null,
      "outputs": [
        {
          "output_type": "stream",
          "name": "stdout",
          "text": [
            "20\n"
          ]
        }
      ]
    },
    {
      "cell_type": "code",
      "source": [
        "#Cell 14\n",
        "#Phyton Classes\n",
        "\n",
        "class Person:\n",
        "  def __init__(self, name, age):\n",
        "    self.name = name\n",
        "    self.age = age\n",
        "\n",
        "p1 = Person(\"Kyan\", \"18\")\n",
        "\n",
        "print(p1.name)\n",
        "print(p1.age)"
      ],
      "metadata": {
        "colab": {
          "base_uri": "https://localhost:8080/"
        },
        "id": "nVdCLC6n34ki",
        "outputId": "8d95f5cf-42e9-4e19-85fc-e25787670cbf"
      },
      "execution_count": null,
      "outputs": [
        {
          "output_type": "stream",
          "name": "stdout",
          "text": [
            "Kyan\n",
            "18\n"
          ]
        }
      ]
    }
  ]
}